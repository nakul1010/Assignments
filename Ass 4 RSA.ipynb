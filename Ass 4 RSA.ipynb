{
  "nbformat": 4,
  "nbformat_minor": 0,
  "metadata": {
    "colab": {
      "name": "Ass 4 RSA.ipynb",
      "provenance": [],
      "authorship_tag": "ABX9TyMee2JEY9rr8CJQ0uuP+cDx",
      "include_colab_link": true
    },
    "kernelspec": {
      "name": "python3",
      "display_name": "Python 3"
    },
    "language_info": {
      "name": "python"
    }
  },
  "cells": [
    {
      "cell_type": "markdown",
      "metadata": {
        "id": "view-in-github",
        "colab_type": "text"
      },
      "source": [
        "<a href=\"https://colab.research.google.com/github/nakul1010/Assignments/blob/main/Ass%204%20RSA.ipynb\" target=\"_parent\"><img src=\"https://colab.research.google.com/assets/colab-badge.svg\" alt=\"Open In Colab\"/></a>"
      ]
    },
    {
      "cell_type": "code",
      "execution_count": 1,
      "metadata": {
        "colab": {
          "base_uri": "https://localhost:8080/"
        },
        "id": "HzE0gkftstp8",
        "outputId": "234193ed-811b-401a-810a-094b8f4e2467"
      },
      "outputs": [
        {
          "output_type": "stream",
          "name": "stdout",
          "text": [
            "e :  3\n",
            "k :  2 \n",
            "d :  2011\n",
            "cifertext :  1424\n",
            "plaintext :  1123\n"
          ]
        }
      ],
      "source": [
        "def gcd(a, b):\n",
        "  if a == 0:\n",
        "    return b\n",
        "  return gcd(b % a, a)\n",
        "#take two prime numbers\n",
        "p=53 \n",
        "q=59\n",
        "\n",
        "#n is multiplication of two prime numbers\n",
        "n=p*q\n",
        "\n",
        "#phi is euclident totient function\n",
        "phi=(p-1)*(q-1)\n",
        "\n",
        "e=2\n",
        "while e<phi:\n",
        "  if gcd(e,phi)==1:\n",
        "    break\n",
        "  e=e+1\n",
        "print(\"e : \",e)\n",
        "\n",
        "k=1\n",
        "while (k*phi+1)%e!=0:\n",
        "  k=k+1\n",
        "d=(k*phi+1)//e\n",
        "print(\"k : \",k, \"\\nd : \",d)\n",
        "public=[e,n]\n",
        "private=[d,n]\n",
        "\n",
        "def encription(plaintext,public):\n",
        "  e,n=public\n",
        "  cifertext=pow(plaintext,e,n)\n",
        "  return cifertext\n",
        "\n",
        "def decryption(cifertext,private):\n",
        "  e,n=private\n",
        "  plaintext=pow(cifertext,e,n)\n",
        "  return plaintext\n",
        "\n",
        "plaintext=1123\n",
        "cifertext=encription(plaintext,public)\n",
        "\n",
        "print(\"cifertext : \",cifertext)\n",
        "\n",
        "plaintext=decryption(cifertext,private)\n",
        "print(\"plaintext : \",plaintext)\n"
      ]
    },
    {
      "cell_type": "markdown",
      "source": [
        "Article Explainantion , C+++ Code : https://www.geeksforgeeks.org/rsa-algorithm-cryptography/"
      ],
      "metadata": {
        "id": "fqh15IRXs5_k"
      }
    }
  ]
}