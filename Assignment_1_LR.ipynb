{
  "nbformat": 4,
  "nbformat_minor": 0,
  "metadata": {
    "colab": {
      "name": "Assignment 1 LR.ipynb",
      "provenance": [],
      "collapsed_sections": [],
      "authorship_tag": "ABX9TyO6E3VTeg6vOoX9s/IUSXtY",
      "include_colab_link": true
    },
    "kernelspec": {
      "name": "python3",
      "display_name": "Python 3"
    },
    "language_info": {
      "name": "python"
    }
  },
  "cells": [
    {
      "cell_type": "markdown",
      "metadata": {
        "id": "view-in-github",
        "colab_type": "text"
      },
      "source": [
        "<a href=\"https://colab.research.google.com/github/nakul1010/Assignments/blob/main/Assignment_1_LR.ipynb\" target=\"_parent\"><img src=\"https://colab.research.google.com/assets/colab-badge.svg\" alt=\"Open In Colab\"/></a>"
      ]
    },
    {
      "cell_type": "code",
      "source": [
        "\"\"\"\n",
        "Problem statement can be found here : https://www.aitpune.com/Documents/Comp/SPPU_BE_Computer_2015Course_Syllabus_11th%20June2018.pdf\n",
        "\"\"\""
      ],
      "metadata": {
        "colab": {
          "base_uri": "https://localhost:8080/",
          "height": 38
        },
        "id": "fZwzxiinJeJ8",
        "outputId": "fd3f9d31-70f1-4c7b-daef-2e77773bcd12"
      },
      "execution_count": 1,
      "outputs": [
        {
          "output_type": "execute_result",
          "data": {
            "text/plain": [
              "'\\nProblem statement can be found here : https://www.aitpune.com/Documents/Comp/SPPU_BE_Computer_2015Course_Syllabus_11th%20June2018.pdf\\n'"
            ],
            "application/vnd.google.colaboratory.intrinsic+json": {
              "type": "string"
            }
          },
          "metadata": {},
          "execution_count": 1
        }
      ]
    },
    {
      "cell_type": "code",
      "execution_count": null,
      "metadata": {
        "id": "Va7qtWK69iiA"
      },
      "outputs": [],
      "source": [
        "import numpy as np\n",
        "import pandas as pd\n",
        "import matplotlib.pyplot as plt\n",
        "from sklearn.linear_model import LinearRegression"
      ]
    },
    {
      "cell_type": "code",
      "source": [
        "#if we don't have the csv file create own datapoints\n",
        "data = [(10, 95),\n",
        "    (9, 80),\n",
        "    (2, 10),\n",
        "    (15, 50),\n",
        "    (10, 45),\n",
        "    (16, 98),\n",
        "    (11, 38),\n",
        "    (16, 93)\n",
        "]"
      ],
      "metadata": {
        "id": "rUUbD7Q1-xz7"
      },
      "execution_count": null,
      "outputs": []
    },
    {
      "cell_type": "code",
      "source": [
        "# x = data.iloc[:,:-1].values #slice all column\n",
        "# y = data.iloc[:,1].values #keep only last row\n",
        "x = np.array([[x] for x,_ in data])\n",
        "y = np.array([y for _,y in data])"
      ],
      "metadata": {
        "id": "ZSMvVokM-x3Q"
      },
      "execution_count": null,
      "outputs": []
    },
    {
      "cell_type": "code",
      "source": [
        "print(x)\n",
        "print(y)"
      ],
      "metadata": {
        "colab": {
          "base_uri": "https://localhost:8080/"
        },
        "id": "Jf6aTGDg-x6f",
        "outputId": "df50b094-f0e7-4e2f-caf7-45a2d7a7f73a"
      },
      "execution_count": null,
      "outputs": [
        {
          "output_type": "stream",
          "name": "stdout",
          "text": [
            "[[10]\n",
            " [ 9]\n",
            " [ 2]\n",
            " [15]\n",
            " [10]\n",
            " [16]\n",
            " [11]\n",
            " [16]]\n",
            "[95 80 10 50 45 98 38 93]\n"
          ]
        }
      ]
    },
    {
      "cell_type": "code",
      "source": [
        "lr = LinearRegression(normalize=True, fit_intercept=True, n_jobs=1)\n",
        "lr.fit(x,y)"
      ],
      "metadata": {
        "colab": {
          "base_uri": "https://localhost:8080/"
        },
        "id": "AZPgYy9E-x9P",
        "outputId": "a1c3b85f-fca6-4861-85d5-b1b38b46e9bb"
      },
      "execution_count": null,
      "outputs": [
        {
          "output_type": "stream",
          "name": "stderr",
          "text": [
            "/usr/local/lib/python3.7/dist-packages/sklearn/linear_model/_base.py:145: FutureWarning: 'normalize' was deprecated in version 1.0 and will be removed in 1.2.\n",
            "If you wish to scale the data, use Pipeline with a StandardScaler in a preprocessing stage. To reproduce the previous behavior:\n",
            "\n",
            "from sklearn.pipeline import make_pipeline\n",
            "\n",
            "model = make_pipeline(StandardScaler(with_mean=False), LinearRegression())\n",
            "\n",
            "If you wish to pass a sample_weight parameter, you need to pass it as a fit parameter to each step of the pipeline as follows:\n",
            "\n",
            "kwargs = {s[0] + '__sample_weight': sample_weight for s in model.steps}\n",
            "model.fit(X, y, **kwargs)\n",
            "\n",
            "\n",
            "  FutureWarning,\n"
          ]
        },
        {
          "output_type": "execute_result",
          "data": {
            "text/plain": [
              "LinearRegression(n_jobs=1, normalize=True)"
            ]
          },
          "metadata": {},
          "execution_count": 31
        }
      ]
    },
    {
      "cell_type": "code",
      "source": [
        "pred = lr.predict(x)\n",
        "print(pred)"
      ],
      "metadata": {
        "colab": {
          "base_uri": "https://localhost:8080/"
        },
        "id": "9obuOLwh-yAF",
        "outputId": "02a30f9d-de0e-441b-b580-72ea2dff4cbc"
      },
      "execution_count": null,
      "outputs": [
        {
          "output_type": "stream",
          "name": "stdout",
          "text": [
            "[58.46361406 53.87571545 21.76042518 81.40310711 58.46361406 85.99100572\n",
            " 63.05151267 85.99100572]\n"
          ]
        }
      ]
    },
    {
      "cell_type": "code",
      "source": [
        "#print accuracy\n",
        "accuracy = lr.score(x,y)*100\n",
        "print(accuracy)"
      ],
      "metadata": {
        "colab": {
          "base_uri": "https://localhost:8080/"
        },
        "id": "Umh4GtTrI4o3",
        "outputId": "6622bedf-735c-40ce-b2e4-53ce895db8ce"
      },
      "execution_count": null,
      "outputs": [
        {
          "output_type": "stream",
          "name": "stdout",
          "text": [
            "43.709481451010035\n"
          ]
        }
      ]
    },
    {
      "cell_type": "code",
      "source": [
        "plt.scatter(x,y,c='blue')\n",
        "plt.plot(x,pred,c='green')\n",
        "plt.show()"
      ],
      "metadata": {
        "colab": {
          "base_uri": "https://localhost:8080/",
          "height": 265
        },
        "id": "aPTTXrb-B7rg",
        "outputId": "bb360ac7-4464-45ef-b2fe-d4aaa9311256"
      },
      "execution_count": null,
      "outputs": [
        {
          "output_type": "display_data",
          "data": {
            "text/plain": [
              "<Figure size 432x288 with 1 Axes>"
            ],
            "image/png": "[encoded data removed]"
          },
          "metadata": {
            "needs_background": "light"
          }
        }
      ]
    },
    {
      "cell_type": "code",
      "source": [
        "\"\"\"\n",
        "Notes About Linear Regression \n",
        "In a cause and effect independent variable is the cause and dependent variable is the effect. Least square LR is a method of predicting the value of a dependent variable Y, based on value of\n",
        "a dependent var y based on value of independent var x.\n",
        "More info : https://www.javatpoint.com/linear-regression-in-machine-learning\n",
        "\"\"\""
      ],
      "metadata": {
        "colab": {
          "base_uri": "https://localhost:8080/",
          "height": 56
        },
        "id": "R-YjQ4IbB7uE",
        "outputId": "97b7d978-4979-4c27-8b21-4e99dc27d8ca"
      },
      "execution_count": null,
      "outputs": [
        {
          "output_type": "execute_result",
          "data": {
            "text/plain": [
              "'\\nNotes About Linear Regression \\nIn a cause and effect independent variable is the cause and dependent variable is the effect. Least square LR is a method of predicting the value of a dependent variable Y, based on value of\\na dependent var y based on value of independent var x.\\nMore info : https://www.javatpoint.com/linear-regression-in-machine-learning\\n'"
            ],
            "application/vnd.google.colaboratory.intrinsic+json": {
              "type": "string"
            }
          },
          "metadata": {},
          "execution_count": 35
        }
      ]
    },
    {
      "cell_type": "code",
      "source": [
        ""
      ],
      "metadata": {
        "id": "addRzZt6B7wy"
      },
      "execution_count": null,
      "outputs": []
    }
  ]
}