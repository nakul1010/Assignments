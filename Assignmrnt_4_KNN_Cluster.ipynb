{
  "nbformat": 4,
  "nbformat_minor": 0,
  "metadata": {
    "colab": {
      "name": "Assignmrnt 4 KNN Cluster.ipynb",
      "provenance": [],
      "collapsed_sections": [],
      "authorship_tag": "ABX9TyP1tfPolc2LzOw64M6gO7WE",
      "include_colab_link": true
    },
    "kernelspec": {
      "name": "python3",
      "display_name": "Python 3"
    },
    "language_info": {
      "name": "python"
    }
  },
  "cells": [
    {
      "cell_type": "markdown",
      "metadata": {
        "id": "view-in-github",
        "colab_type": "text"
      },
      "source": [
        "<a href=\"https://colab.research.google.com/github/nakul1010/Assignments/blob/main/Assignmrnt_4_KNN_Cluster.ipynb\" target=\"_parent\"><img src=\"https://colab.research.google.com/assets/colab-badge.svg\" alt=\"Open In Colab\"/></a>"
      ]
    },
    {
      "cell_type": "code",
      "source": [
        "\"\"\"\n",
        "Based on this video : https://youtu.be/CLKW6uWJtTc\n",
        "Theory : https://www.analyticsvidhya.com/blog/2021/04/simple-understanding-and-implementation-of-knn-algorithm/\n",
        "\"\"\""
      ],
      "metadata": {
        "colab": {
          "base_uri": "https://localhost:8080/",
          "height": 38
        },
        "id": "zg4syZ-xMhlZ",
        "outputId": "9ce194e8-1ccd-4a05-8ad4-4424b04c9ff4"
      },
      "execution_count": null,
      "outputs": [
        {
          "output_type": "execute_result",
          "data": {
            "text/plain": [
              "'\\nBased on this video : https://youtu.be/CLKW6uWJtTc\\nTheory : https://www.analyticsvidhya.com/blog/2021/04/simple-understanding-and-implementation-of-knn-algorithm/\\n'"
            ],
            "application/vnd.google.colaboratory.intrinsic+json": {
              "type": "string"
            }
          },
          "metadata": {},
          "execution_count": 1
        }
      ]
    },
    {
      "cell_type": "code",
      "execution_count": null,
      "metadata": {
        "id": "bl-KNOjY57iL"
      },
      "outputs": [],
      "source": [
        "import pandas as pd\n",
        "import numpy as np\n",
        "import seaborn as sns\n",
        "from math import sqrt"
      ]
    },
    {
      "cell_type": "code",
      "source": [
        "class KMeans:\n",
        "  def __init__(self,c1,c2):\n",
        "    self.c1 = c1\n",
        "    self.c2 = c2\n",
        "  def print_centroid(self):\n",
        "    print(\"c1 : \",self.c1,\"     c2 : \",self.c2)\n",
        "  def eucledian_distance(self,xo,xc,yo,yc):\n",
        "    return sqrt(((xo - xc) * (xo - xc)) + ((yo - yc) * (yo - yc)))\n",
        "  def recalculate_centroid(self,xo,xc,yo,yc):\n",
        "    return [(xo+xc)/2, (yo+yc)/2]\n",
        "  \n",
        "  def fit(self,df):\n",
        "    k1 = [] #store data points of cluster  1\n",
        "    k2 = []#store data points of cluster  1\n",
        "    for index in df.index:\n",
        "      print(\"x : \",df['x'][index],\"    y : \",df['y'][index])\n",
        "\n",
        "      #calculate eucledina distance for both centroid\n",
        "      eucledian_distance_c1 = self.eucledian_distance(c1[0],df['x'][index],df['y'][index],c1[1])\n",
        "      eucledian_distance_c2 = self.eucledian_distance(c2[0],df['x'][index],df['y'][index],c2[1])\n",
        "\n",
        "      #update centroid\n",
        "      if eucledian_distance_c1 < eucledian_distance_c2:\n",
        "        self.c1 = self.recalculate_centroid(c1[0],df['x'][index],df['y'][index],c1[1])\n",
        "        k1.append(index+3)\n",
        "      else:\n",
        "        self.c2 = self.recalculate_centroid(c2[0],df['x'][index],df['y'][index],c2[1])\n",
        "        k2.append(index+3)\n",
        "    print(\"Updated Centroid c1 : \",self.c1,\"     c2 : \",self.c2)\n",
        "    return (\"cluster 1 : \",k1,\"cluster 2 : \",k2)\n",
        "\n"
      ],
      "metadata": {
        "id": "3ENagoD7CbvY"
      },
      "execution_count": null,
      "outputs": []
    },
    {
      "cell_type": "code",
      "source": [
        "#video data poinst\n",
        "# points=[(168, 60),\n",
        "#         (179, 68),\n",
        "#         (182, 72),\n",
        "#         (188, 77),\n",
        "#         (180, 71),\n",
        "#         (180, 70),\n",
        "#         (183, 84),\n",
        "#         (180, 88),\n",
        "#         (180, 67),\n",
        "#         (177, 76)]\n",
        "\n",
        "#practical data points\n",
        "\n",
        "points=[(0.08,0.9),#P3\n",
        "        (0.16, 0.85),#P4\n",
        "        (0.2,0.3),#P5\n",
        "        (0.25, 0.5),#P6\n",
        "        (0.24,0.1),#P7\n",
        "        (0.3,0.2)#P8\n",
        "        ]\n",
        "\n",
        "df = pd.DataFrame()\n",
        "x = [p[0] for p in points]\n",
        "y = [p[1] for p in points]\n",
        "df['x'] = x\n",
        "df['y'] = y\n",
        "# df.head()\n",
        "\n",
        "#uncomment the line for getting plot\n",
        "# sns.scatterplot(data=df, x = 'x', y = 'y')\n",
        "\n",
        "#video data points\n",
        "# c1 = [185,72]\n",
        "# c2 = [170,56]\n",
        "\n",
        "#practical data points\n",
        "c1 = [0.1,0.6] #P1 taken as centroid\n",
        "c2 = [0.15,0.71] #P2 taken as centroid\n",
        "\n",
        "obj = KMeans(c1,c2)\n",
        "print(\"\\n\",obj.fit(df))"
      ],
      "metadata": {
        "id": "v5JuAjyaCb0s",
        "colab": {
          "base_uri": "https://localhost:8080/"
        },
        "outputId": "d172c943-ddeb-4a57-f761-e5f1d25a07cc"
      },
      "execution_count": null,
      "outputs": [
        {
          "output_type": "stream",
          "name": "stdout",
          "text": [
            "x :  0.08     y :  0.9\n",
            "x :  0.16     y :  0.85\n",
            "x :  0.2     y :  0.3\n",
            "x :  0.25     y :  0.5\n",
            "x :  0.24     y :  0.1\n",
            "x :  0.3     y :  0.2\n",
            "Updated Centroid c1 :  [0.2, 0.4]      c2 :  [0.155, 0.78]\n",
            "\n",
            " ('cluster 1 : ', [5, 6, 7, 8], 'cluster 2 : ', [3, 4])\n"
          ]
        }
      ]
    },
    {
      "cell_type": "code",
      "source": [
        "\"\"\"\n",
        "Questions in assignment\n",
        "\n",
        "1) Which cluster does P6 belongs to?\n",
        "-> P6 belongs in centroid 1, that is k1 clustet\n",
        "\n",
        "2) What is the population of cluster around m2?\n",
        "-> 3\n",
        "\n",
        "3) What is updated value of m1 and m2?\n",
        "-> c1 :  [0.2, 0.4]      c2 :  [0.155, 0.78]\n",
        "\n",
        "\n",
        "\"\"\""
      ],
      "metadata": {
        "id": "0TEqcWz0Cb2-",
        "colab": {
          "base_uri": "https://localhost:8080/",
          "height": 56
        },
        "outputId": "10241c9c-835d-421e-ccd0-b789da1ec9ab"
      },
      "execution_count": null,
      "outputs": [
        {
          "output_type": "execute_result",
          "data": {
            "text/plain": [
              "'\\nQuestions in assignment\\n\\n1) Which cluster does P6 belongs to?\\n-> P6 belongs in centroid 1, that is k1 clustet\\n2) What is the population of cluster around m2?\\n-> 3\\n3) What is updated value of m1 and m2?\\n-> c1 :  [0.2, 0.4]      c2 :  [0.14, 0.78]\\n\\n\\n'"
            ],
            "application/vnd.google.colaboratory.intrinsic+json": {
              "type": "string"
            }
          },
          "metadata": {},
          "execution_count": 5
        }
      ]
    }
  ]
}