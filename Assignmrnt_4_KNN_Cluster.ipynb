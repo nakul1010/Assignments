{
  "nbformat": 4,
  "nbformat_minor": 0,
  "metadata": {
    "colab": {
      "name": "Assignmrnt 4 KNN Cluster.ipynb",
      "provenance": [],
      "collapsed_sections": [],
      "authorship_tag": "ABX9TyPsbP1+OPRR2ma+Nh2grEyr",
      "include_colab_link": true
    },
    "kernelspec": {
      "name": "python3",
      "display_name": "Python 3"
    },
    "language_info": {
      "name": "python"
    }
  },
  "cells": [
    {
      "cell_type": "markdown",
      "metadata": {
        "id": "view-in-github",
        "colab_type": "text"
      },
      "source": [
        "<a href=\"https://colab.research.google.com/github/nakul1010/Assignments/blob/main/Assignmrnt_4_KNN_Cluster.ipynb\" target=\"_parent\"><img src=\"https://colab.research.google.com/assets/colab-badge.svg\" alt=\"Open In Colab\"/></a>"
      ]
    },
    {
      "cell_type": "code",
      "source": [
        "\"\"\"\n",
        "Based on this video : https://youtu.be/CLKW6uWJtTc\n",
        "Theory : https://www.analyticsvidhya.com/blog/2021/04/simple-understanding-and-implementation-of-knn-algorithm/\n",
        "\"\"\""
      ],
      "metadata": {
        "colab": {
          "base_uri": "https://localhost:8080/",
          "height": 38
        },
        "id": "zg4syZ-xMhlZ",
        "outputId": "118826d1-4eda-4845-fa61-f6f245675ea3"
      },
      "execution_count": 36,
      "outputs": [
        {
          "output_type": "execute_result",
          "data": {
            "text/plain": [
              "'\\nBased on this video : https://youtu.be/CLKW6uWJtTc\\nTheory : https://www.analyticsvidhya.com/blog/2021/04/simple-understanding-and-implementation-of-knn-algorithm/\\n'"
            ],
            "application/vnd.google.colaboratory.intrinsic+json": {
              "type": "string"
            }
          },
          "metadata": {},
          "execution_count": 36
        }
      ]
    },
    {
      "cell_type": "code",
      "execution_count": 37,
      "metadata": {
        "id": "bl-KNOjY57iL"
      },
      "outputs": [],
      "source": [
        "import pandas as pd\n",
        "import numpy as np\n",
        "import seaborn as sns\n",
        "from math import sqrt"
      ]
    },
    {
      "cell_type": "code",
      "source": [
        "class KMeans:\n",
        "  def __init__(self,c1,c2):\n",
        "    self.c1 = c1\n",
        "    self.c2 = c2\n",
        "  def print_centroid(self):\n",
        "    print(\"c1 : \",self.c1,\"     c2 : \",self.c2)\n",
        "  def eucledian_distance(self,xo,xc,yo,yc):\n",
        "    return sqrt(((xo - xc) * (xo - xc)) + ((yo - yc) * (yo - yc)))\n",
        "  def recalculate_centroid(self,xo,xc,yo,yc):\n",
        "    return [(xo+xc)/2, (yo+yc)/2]\n",
        "  \n",
        "  def fit(self,df):\n",
        "    k1 = [] #store data points of cluster  1\n",
        "    k2 = []#store data points of cluster  1\n",
        "    for index in df.index:\n",
        "      print(\"x : \",df['x'][index],\"    y : \",df['y'][index])\n",
        "\n",
        "      #calculate eucledina distance for both centroid\n",
        "      eucledian_distance_c1 = self.eucledian_distance(c1[0],df['x'][index],df['y'][index],c1[1])\n",
        "      eucledian_distance_c2 = self.eucledian_distance(c2[0],df['x'][index],df['y'][index],c2[1])\n",
        "\n",
        "      #update centroid\n",
        "      if eucledian_distance_c1 < eucledian_distance_c2:\n",
        "        self.c1 = self.recalculate_centroid(c1[0],df['x'][index],df['y'][index],c1[1])\n",
        "        k1.append(index+3)\n",
        "      else:\n",
        "        self.c2 = self.recalculate_centroid(c2[0],df['x'][index],df['y'][index],c2[1])\n",
        "        k2.append(index+3)\n",
        "    print(\"Updated Centroid c1 : \",self.c1,\"     c2 : \",self.c2)\n",
        "    return (\"cluster 1 : \",k1,\"cluster 2 : \",k2)\n",
        "\n"
      ],
      "metadata": {
        "id": "3ENagoD7CbvY"
      },
      "execution_count": 38,
      "outputs": []
    },
    {
      "cell_type": "code",
      "source": [
        "#video data poinst\n",
        "# points=[(168, 60),\n",
        "#         (179, 68),\n",
        "#         (182, 72),\n",
        "#         (188, 77),\n",
        "#         (180, 71),\n",
        "#         (180, 70),\n",
        "#         (183, 84),\n",
        "#         (180, 88),\n",
        "#         (180, 67),\n",
        "#         (177, 76)]\n",
        "\n",
        "#practical data points\n",
        "\n",
        "points=[(0.08,0.9),#P3\n",
        "        (0.16, 0.85),#P4\n",
        "        (0.2,0.3),#P5\n",
        "        (0.25, 0.5),#P6\n",
        "        (0.24,0.1),#P7\n",
        "        (0.3,0.2)#P8\n",
        "        ]\n",
        "\n",
        "df = pd.DataFrame()\n",
        "x = [p[0] for p in points]\n",
        "y = [p[1] for p in points]\n",
        "df['x'] = x\n",
        "df['y'] = y\n",
        "# df.head()\n",
        "\n",
        "#uncomment the line for getting plot\n",
        "# sns.scatterplot(data=df, x = 'x', y = 'y')\n",
        "\n",
        "#video data points\n",
        "# c1 = [185,72]\n",
        "# c2 = [170,56]\n",
        "\n",
        "#practical data points\n",
        "c1 = [0.1,0.6] \n",
        "c2 = [0.12,0.71]\n",
        "\n",
        "obj = KMeans(c1,c2)\n",
        "print(\"\\n\",obj.fit(df))"
      ],
      "metadata": {
        "id": "v5JuAjyaCb0s",
        "colab": {
          "base_uri": "https://localhost:8080/"
        },
        "outputId": "339e1502-9af3-4378-f8c1-4b659b554f65"
      },
      "execution_count": 39,
      "outputs": [
        {
          "output_type": "stream",
          "name": "stdout",
          "text": [
            "x :  0.08     y :  0.9\n",
            "x :  0.16     y :  0.85\n",
            "x :  0.2     y :  0.3\n",
            "x :  0.25     y :  0.5\n",
            "x :  0.24     y :  0.1\n",
            "x :  0.3     y :  0.2\n",
            "Updated Centroid c1 :  [0.2, 0.4]      c2 :  [0.14, 0.78]\n",
            "\n",
            " ('cluster 1 : ', [5, 6, 7, 8], 'cluster 2 : ', [3, 4])\n"
          ]
        }
      ]
    },
    {
      "cell_type": "code",
      "source": [
        "\"\"\"\n",
        "Questions in assignment\n",
        "\n",
        "1) Which cluster does P6 belongs to?\n",
        "-> P6 belongs in centroid 1, that is k1 clustet\n",
        "2) What is the population of cluster around m2?\n",
        "-> 3\n",
        "3) What is updated value of m1 and m2?\n",
        "-> c1 :  [0.2, 0.4]      c2 :  [0.14, 0.78]\n",
        "\n",
        "\n",
        "\"\"\""
      ],
      "metadata": {
        "id": "0TEqcWz0Cb2-",
        "colab": {
          "base_uri": "https://localhost:8080/",
          "height": 56
        },
        "outputId": "f09c408b-9ee9-4ab4-e6f0-ca171774655b"
      },
      "execution_count": 40,
      "outputs": [
        {
          "output_type": "execute_result",
          "data": {
            "text/plain": [
              "'\\nQuestions in assignment\\n\\n1) Which cluster does P6 belongs to?\\n-> P6 belongs in centroid 1, that is k1 clustet\\n2) What is the population of cluster around m2?\\n-> 3\\n3) What is updated value of m1 and m2?\\n-> c1 :  [0.2, 0.4]      c2 :  [0.14, 0.78]\\n\\n\\n'"
            ],
            "application/vnd.google.colaboratory.intrinsic+json": {
              "type": "string"
            }
          },
          "metadata": {},
          "execution_count": 40
        }
      ]
    }
  ]
}