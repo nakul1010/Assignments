{
  "nbformat": 4,
  "nbformat_minor": 0,
  "metadata": {
    "colab": {
      "name": "Ass 1 - S DES.ipynb",
      "provenance": [],
      "collapsed_sections": [],
      "authorship_tag": "ABX9TyNmYklabvt0tekd3pD3W1X2",
      "include_colab_link": true
    },
    "kernelspec": {
      "name": "python3",
      "display_name": "Python 3"
    },
    "language_info": {
      "name": "python"
    }
  },
  "cells": [
    {
      "cell_type": "markdown",
      "metadata": {
        "id": "view-in-github",
        "colab_type": "text"
      },
      "source": [
        "<a href=\"https://colab.research.google.com/github/nakul1010/Assignments/blob/main/Ass%201%20S-DES.ipynb\" target=\"_parent\"><img src=\"https://colab.research.google.com/assets/colab-badge.svg\" alt=\"Open In Colab\"/></a>"
      ]
    },
    {
      "cell_type": "code",
      "source": [
        "#Solution 1\n",
        "P10 = [] # Random permutation of size 10\n",
        "P8 = [] # Sample 8 elemets from P10\n",
        "EP = [] # Shuffle two permutations of size 4\n",
        "IP = [] # # Random permutation of size 8\n",
        "IP_INV = [] # To be calculated from IP IP_INV[IP[i] - 1] = i + 1\n",
        "\n",
        "P10=[7, 3, 6, 1, 10, 4, 2, 5, 8, 9]\n",
        "P8=[1, 4, 2, 6, 7, 3, 10, 8]\n",
        "EP=[2, 4, 3, 1, 2, 4, 3, 1]\n",
        "IP=[3, 8, 1, 5, 4, 2, 6, 7]\n",
        "IP_INV=[3, 6, 1, 5, 4, 7, 8, 2]\n",
        "\n",
        "S0 = [\n",
        "    [1, 0, 3, 2],\n",
        "    [3, 2, 1, 0],\n",
        "    [0, 2, 1, 3],\n",
        "    [3, 1, 3, 2]\n",
        "]\n",
        "S1 = [\n",
        "    [0, 1, 2, 3],\n",
        "    [2, 0, 1, 3],\n",
        "    [3, 0, 1, 0],\n",
        "    [2, 1, 0, 3]\n",
        "]\n"
      ],
      "metadata": {
        "id": "SoxIeNcStK8V"
      },
      "execution_count": 32,
      "outputs": []
    },
    {
      "cell_type": "code",
      "source": [
        "P10=[3, 5, 2, 7, 4, 10, 1, 9, 8, 6]\n",
        "P8=[6, 3, 7, 4, 8, 5, 10, 9]\n",
        "EP=[4, 1, 2, 3, 2, 3, 4, 1]\n",
        "IP=[2, 6, 3, 1, 4, 8, 5, 7]\n",
        "IP_INV=[4, 1, 3, 5, 7, 2, 8, 6]\n",
        "\n",
        "S0 = [\n",
        "    [1, 0, 3, 2],\n",
        "    [3, 2, 1, 0],\n",
        "    [0, 2, 1, 3],\n",
        "    [3, 1, 3, 2]\n",
        "]\n",
        "S1 = [\n",
        "    [0, 1, 2, 3],\n",
        "    [2, 0, 1, 3],\n",
        "    [3, 0, 1, 0],\n",
        "    [2, 1, 0, 3]\n",
        "]"
      ],
      "metadata": {
        "id": "bFmNARdqeCr9"
      },
      "execution_count": 33,
      "outputs": []
    },
    {
      "cell_type": "code",
      "source": [
        "def bin_to_dec(x):\n",
        "  return int(x, 2)\n",
        "def dec_to_bin(x):\n",
        "  return bin(x).replace(\"0b\",\"\")\n",
        "def left_circular_shift(x, shifts=1):\n",
        "  shifts = shifts % len(x)\n",
        "  return x[shifts:] + x[:shifts]\n",
        "def permutate(key, perm):\n",
        "  ret = \"\"\n",
        "  for k in perm:\n",
        "    ret += key[k-1]\n",
        "  return ret\n",
        "def split_str(key):\n",
        "  half = len(key)//2\n",
        "  key1 = key[:half]\n",
        "  key2 = key[half:]\n",
        "  return key1, key2\n",
        "def xor(a, b):\n",
        "  ret = \"\"\n",
        "  for i in range(len(a)):\n",
        "    if a[i] == b[i]: ret += \"0\"\n",
        "    else: ret += \"1\"\n",
        "  return ret"
      ],
      "metadata": {
        "id": "NZQzYabzeCu3"
      },
      "execution_count": 34,
      "outputs": []
    },
    {
      "cell_type": "code",
      "source": [
        "def gen_subkeys(key):\n",
        "  n_key = permutate(key, P10)\n",
        "\n",
        "  left_key, right_key = split_str(n_key)\n",
        "\n",
        "  left_key = left_circular_shift(left_key, 1)\n",
        "  right_key = left_circular_shift(right_key, 1)\n",
        "\n",
        "  k1 = permutate(left_key + right_key, P8)\n",
        "\n",
        "  left_key = left_circular_shift(left_key, 2)\n",
        "  right_key = left_circular_shift(right_key, 2)\n",
        "\n",
        "  k2 = permutate(left_key + right_key, P8)\n",
        "\n",
        "  return k1, k2"
      ],
      "metadata": {
        "id": "Sf5ww-igeCx6"
      },
      "execution_count": 35,
      "outputs": []
    },
    {
      "cell_type": "code",
      "source": [
        "def s_box(text, s):\n",
        "  r = text[0] + text[3]\n",
        "  c = text[1] + text[2]\n",
        "\n",
        "  r = bin_to_dec(r)\n",
        "  c = bin_to_dec(c)\n",
        "  out = s[r][c]\n",
        "  out = dec_to_bin(out)\n",
        "  while len(out) < 2:\n",
        "    out = \"0\" + out\n",
        "  return out"
      ],
      "metadata": {
        "id": "hyKhRRjoeC0w"
      },
      "execution_count": 36,
      "outputs": []
    },
    {
      "cell_type": "code",
      "source": [
        "def function(left, right, subkey):\n",
        "  text = right\n",
        "  text = permutate(text, EP)\n",
        "  text = xor(text, subkey)\n",
        "  text_left, text_right = split_str(text)\n",
        "  text = s_box(text_left, S0) + s_box(text_right, S1)\n",
        "  text = xor(text, left)\n",
        "  return text, right"
      ],
      "metadata": {
        "id": "8DT05nm3eRuH"
      },
      "execution_count": 37,
      "outputs": []
    },
    {
      "cell_type": "code",
      "source": [
        "def encryption(plaintext, key):\n",
        "  k1, k2 = gen_subkeys(key)\n",
        "\n",
        "  ciphertext = permutate(plaintext, IP)\n",
        "\n",
        "  left, right = split_str(ciphertext)\n",
        "  left, right = function(left, right, k1)\n",
        "\n",
        "  left, right = right, left\n",
        "\n",
        "  left, right = function(left, right, k2)\n",
        "\n",
        "  ciphertext = permutate(left + right, IP_INV)\n",
        "\n",
        "  return ciphertext\n",
        "  \n",
        "def decryption(ciphertext, key):\n",
        "  k1, k2 = gen_subkeys(key)\n",
        "\n",
        "  plaintext = permutate(ciphertext, IP)\n",
        "\n",
        "  left, right = split_str(plaintext)\n",
        "  left, right = function(left, right, k2)\n",
        "\n",
        "  left, right = right, left\n",
        "\n",
        "  left, right = function(left, right, k1)\n",
        "\n",
        "  plaintext = permutate(left + right, IP_INV)\n",
        "\n",
        "  return plaintext"
      ],
      "metadata": {
        "id": "jN1YrcJ5eRw0"
      },
      "execution_count": 38,
      "outputs": []
    },
    {
      "cell_type": "code",
      "source": [
        "plaintext = \"10010111\"\n",
        "key = \"1010000010\"\n",
        "c = encryption(plaintext, key)\n",
        "print(\"Cipher Text : \",c)"
      ],
      "metadata": {
        "colab": {
          "base_uri": "https://localhost:8080/"
        },
        "id": "93Q3L3pbeRzr",
        "outputId": "b3ecfe83-156f-4e9e-d7bb-cb7c9640d155"
      },
      "execution_count": 39,
      "outputs": [
        {
          "output_type": "stream",
          "name": "stdout",
          "text": [
            "Cipher Text :  00111000\n"
          ]
        }
      ]
    },
    {
      "cell_type": "code",
      "source": [
        "p = decryption(c, key)\n",
        "\n",
        "print(\"Decrypted to match orignal Text : \",p)"
      ],
      "metadata": {
        "colab": {
          "base_uri": "https://localhost:8080/"
        },
        "id": "PY0oM0OEeR1-",
        "outputId": "43843523-b0ff-4030-e8af-4b79349cc200"
      },
      "execution_count": 40,
      "outputs": [
        {
          "output_type": "stream",
          "name": "stdout",
          "text": [
            "Decrypted to match orignal Text :  10010111\n"
          ]
        }
      ]
    },
    {
      "cell_type": "code",
      "source": [
        "##Solution 2 : Simple One Just encrypts not decrypts\n",
        "P10 = (3, 5, 2, 7, 4, 10, 1, 9, 8, 6)\n",
        "P8 = (6, 3, 7, 4, 8, 5, 10, 9)\n",
        "P4 = (2, 4, 3, 1)\n",
        "\n",
        "IP = (2, 6, 3, 1, 4, 8, 5, 7)\n",
        "IPi = (4, 1, 3, 5, 7, 2, 8, 6)\n",
        "\n",
        "E = (4, 1, 2, 3, 2, 3, 4, 1)\n",
        "\n",
        "S0 = [\n",
        "        [1, 0, 3, 2],\n",
        "        [3, 2, 1, 0],\n",
        "        [0, 2, 1, 3],\n",
        "        [3, 1, 3, 2]\n",
        "     ]\n",
        "\n",
        "S1 = [\n",
        "        [0, 1, 2, 3],\n",
        "        [2, 0, 1, 3],\n",
        "        [3, 0, 1, 0],\n",
        "        [2, 1, 0, 3]\n",
        "     ]\n",
        "\n",
        "\n",
        "def permutation(pattern, key):\n",
        "    permuted = ''\n",
        "    \n",
        "    for i in pattern:\n",
        "        permuted += key[i-1]\n",
        "        \n",
        "    return permuted\n",
        "\n",
        "\n",
        "def generate_first(left, right):\n",
        "    left = left[1:] + left[:1]\n",
        "    right = right[1:] + right[:1]\n",
        "    key = left + right\n",
        "    \n",
        "    return permutation(P8, key)\n",
        "\n",
        "\n",
        "def generate_second(left, right):\n",
        "    left = left[3:] + left[:3]\n",
        "    right = right[3:] + right[:3]\n",
        "    key = left + right\n",
        "\n",
        "    return permutation(P8, key)\n",
        "\n",
        "\n",
        "def transform(right, key):\n",
        "    extended = permutation(E, right)\n",
        "    xor_cipher = bin(int(extended, 2) ^ int(key, 2))[2:].zfill(8)\n",
        "    xor_left = xor_cipher[:4]\n",
        "    xor_right = xor_cipher[4:]\n",
        "\n",
        "    new_left = Sbox(xor_left, S0)\n",
        "    new_right = Sbox(xor_right, S1)\n",
        "\n",
        "    return permutation(P4, new_left + new_right)\n",
        "\n",
        "\n",
        "def Sbox(data, box):\n",
        "    row = int(data[0] + data[3], 2)\n",
        "    column = int(data[1] + data[2], 2)\n",
        "\n",
        "    return bin(box[row][column])[2:].zfill(4)\n",
        "\n",
        "\n",
        "def encrypt(left, right, key):\n",
        "    cipher = int(left, 2) ^ int(transform(right, key), 2)\n",
        "\n",
        "    return right, bin(cipher)[2:].zfill(4)\n",
        "\n",
        "\n",
        "plaintext = \"10010111\"\n",
        "key = \"1010000010\"\n",
        "# key = input(\"Enter a 10-bit key: \")\n",
        "# if len(key) != 10:\n",
        "#     raise Exception(\"Check the input\")\n",
        "\n",
        "# plaintext = input(\"Enter 8-bit plaintext: \")\n",
        "# if len(plaintext) != 8:\n",
        "#     raise Exception(\"Check the input\")\n",
        "    \n",
        "\n",
        "p10key = permutation(P10, key)\n",
        "print(\"First Permutation\")\n",
        "print(p10key)\n",
        "left_key = p10key[:len(p10key)//2]\n",
        "print(\"Left key\",left_key)\n",
        "right_key = p10key[len(p10key)//2:]\n",
        "print(\"Right key\",right_key)\n",
        "first_key = generate_first(left_key, right_key)\n",
        "print(\"*****\")\n",
        "print(\"First key\")\n",
        "print(first_key)\n",
        "second_key = generate_second(left_key, right_key)\n",
        "print(\"*****\")\n",
        "print(\"Second key\")\n",
        "print(second_key)\n",
        "initial_permutation = permutation(IP, plaintext)\n",
        "print(\"Initial Permutation\",initial_permutation)\n",
        "left_data = initial_permutation[:len(initial_permutation)//2]\n",
        "right_data = initial_permutation[len(initial_permutation)//2:]\n",
        "\n",
        "left, right = encrypt(left_data, right_data, first_key)\n",
        "left, right = encrypt(left, right, second_key)\n",
        "\n",
        "print(\"Ciphertext:\", permutation(IPi, left + right))"
      ],
      "metadata": {
        "id": "pAii4YkltK_M",
        "colab": {
          "base_uri": "https://localhost:8080/"
        },
        "outputId": "05215610-3488-441c-8132-a557f81a62cb"
      },
      "execution_count": 41,
      "outputs": [
        {
          "output_type": "stream",
          "name": "stdout",
          "text": [
            "First Permutation\n",
            "1000001100\n",
            "Left key 10000\n",
            "Right key 01100\n",
            "*****\n",
            "First key\n",
            "10100100\n",
            "*****\n",
            "Second key\n",
            "01000011\n",
            "Initial Permutation 01011101\n",
            "Ciphertext: 10111010\n"
          ]
        }
      ]
    },
    {
      "cell_type": "markdown",
      "source": [
        "GFG Article : https://www.geeksforgeeks.org/simplified-data-encryption-standard-set-2/"
      ],
      "metadata": {
        "id": "qUqTmbYVg51W"
      }
    }
  ]
}