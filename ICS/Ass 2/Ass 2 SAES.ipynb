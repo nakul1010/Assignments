{
  "nbformat": 4,
  "nbformat_minor": 0,
  "metadata": {
    "colab": {
      "name": "Ass 2 S AES.ipynb",
      "provenance": [],
      "collapsed_sections": [],
      "authorship_tag": "ABX9TyOIS8EphZjYJIf1OedqOmSh",
      "include_colab_link": true
    },
    "kernelspec": {
      "name": "python3",
      "display_name": "Python 3"
    },
    "language_info": {
      "name": "python"
    }
  },
  "cells": [
    {
      "cell_type": "markdown",
      "metadata": {
        "id": "view-in-github",
        "colab_type": "text"
      },
      "source": [
        "<a href=\"https://colab.research.google.com/github/nakul1010/Assignments/blob/main/Ass%202%20SAES.ipynb\" target=\"_parent\"><img src=\"https://colab.research.google.com/assets/colab-badge.svg\" alt=\"Open In Colab\"/></a>"
      ]
    },
    {
      "cell_type": "code",
      "execution_count": null,
      "metadata": {
        "id": "8yuI7bFShZW8"
      },
      "outputs": [],
      "source": [
        "import math\n",
        "import random\n",
        "\n",
        "\n",
        "def point(a, b):\n",
        "    \n",
        "    if (4*(a**3) + 27*(b**2)) != 0:\n",
        "        x = 1\n",
        "        print('generating')\n",
        "        while True:\n",
        "            rhs = (x**3) + (a*x) + b\n",
        "            y = int(math.sqrt(rhs))\n",
        "            lhs = (y**2)\n",
        "            \n",
        "            if lhs == rhs:\n",
        "                return [x, y]\n",
        "            else:\n",
        "                x += 1\n",
        "    else:\n",
        "        print('Enter another coefficient.')\n",
        "        \n",
        "        \n",
        "a = int(input(\"Enter the coefficient 'a' of curve: \"))\n",
        "b = int(input(\"Enter the coefficient 'b' of curve: \"))\n",
        "\n",
        "private_A = 13\n",
        "private_B = 15\n",
        "\n",
        "\n",
        "generator = point(a, b)\n",
        "print('Generator point: ', generator)\n",
        "\n",
        "m = int(input('Enter the plaintext integer: '))\n",
        "\n",
        "public_key_A = [private_A*generator[0], private_A*generator[1]]\n",
        "print(\"Public Key of A: \", public_key_A)\n",
        "\n",
        "public_key_B = [private_B*generator[0], private_B*generator[1]]\n",
        "print(\"Public Key of B: \", public_key_B)\n",
        "\n",
        "k = random.randint(0, 10)\n",
        "\n",
        "c1 = k * (generator[0] + generator[1])\n",
        "\n",
        "c2 = m + ((k*public_key_B[0]) + (k*public_key_B[1]))\n",
        "\n",
        "ciphertext = [c1, c2]\n",
        "print(\"Ciphertext: \", ciphertext)\n",
        "\n",
        "r = private_B*c1\n",
        "\n",
        "plaintext = c2 - r\n",
        "print(\"Decrypted Plaintext: \", plaintext)"
      ]
    }
  ]
}