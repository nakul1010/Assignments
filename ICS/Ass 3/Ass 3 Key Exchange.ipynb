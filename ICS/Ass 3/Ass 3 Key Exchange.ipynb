{
  "nbformat": 4,
  "nbformat_minor": 0,
  "metadata": {
    "colab": {
      "name": "Ass 3 Key Exchange.ipynb",
      "provenance": [],
      "collapsed_sections": [],
      "authorship_tag": "ABX9TyOZpB4nRD6oOnxFI/GGBFCY",
      "include_colab_link": true
    },
    "kernelspec": {
      "name": "python3",
      "display_name": "Python 3"
    },
    "language_info": {
      "name": "python"
    }
  },
  "cells": [
    {
      "cell_type": "markdown",
      "metadata": {
        "id": "view-in-github",
        "colab_type": "text"
      },
      "source": [
        "<a href=\"https://colab.research.google.com/github/nakul1010/Assignments/blob/main/Ass%203%20Key%20Exchange.ipynb\" target=\"_parent\"><img src=\"https://colab.research.google.com/assets/colab-badge.svg\" alt=\"Open In Colab\"/></a>"
      ]
    },
    {
      "cell_type": "code",
      "execution_count": null,
      "metadata": {
        "id": "Ia20TQOqrLgw",
        "outputId": "a73a4a6d-def7-4374-c3da-82d0b8e53cfa",
        "colab": {
          "base_uri": "https://localhost:8080/"
        }
      },
      "outputs": [
        {
          "output_type": "stream",
          "name": "stdout",
          "text": [
            "send alice_calculation through channel :  6\n",
            "send bob_calculation through channel :  16\n",
            "Secured key created by alice :  9\n",
            "Secured key created by bob :  9\n"
          ]
        }
      ],
      "source": [
        "from random import randint\n",
        "\n",
        "if __name__ == '__main__':\n",
        "  \n",
        "  #prime number\n",
        "  n = 23\n",
        "\n",
        "  #primitive root\n",
        "  g = 9\n",
        "\n",
        "  #alice private key\n",
        "  alice = 4\n",
        "  \n",
        "  #bob private key\n",
        "  bob = 3\n",
        "\n",
        "  #alica calculates\n",
        "  alice_calculation = int(pow(g,alice,n))\n",
        "  print(\"send alice_calculation through channel : \",alice_calculation)\n",
        "\n",
        "  #bob calculates\n",
        "  bob_calculation = int(pow(g,bob,n))\n",
        "  print(\"send bob_calculation through channel : \",bob_calculation)\n",
        "  \n",
        "  #alice recalculates from bob calculation to get secured key\n",
        "  alice_secured_key = int(pow(bob_calculation,alice,n))\n",
        "  print(\"Secured key created by alice : \",alice_secured_key)\n",
        "\n",
        "\n",
        "  #alice recalculates from bob calculation to get secured key\n",
        "  bob_secured_key = int(pow(alice_calculation,bob,n))\n",
        "  print(\"Secured key created by bob : \",bob_secured_key)\n"
      ]
    },
    {
      "cell_type": "markdown",
      "source": [
        "article : https://www.geeksforgeeks.org/implementation-diffie-hellman-algorithm/"
      ],
      "metadata": {
        "id": "TWT_pIFHsmH6"
      }
    }
  ]
}