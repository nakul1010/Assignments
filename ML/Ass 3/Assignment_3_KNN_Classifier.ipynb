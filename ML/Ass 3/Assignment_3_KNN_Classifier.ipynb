{
  "cells": [
    {
      "cell_type": "markdown",
      "metadata": {
        "colab_type": "text",
        "id": "view-in-github"
      },
      "source": [
        "<a href=\"https://colab.research.google.com/github/nakul1010/Assignments/blob/main/Assignment_3_KNN_Classifier.ipynb\" target=\"_parent\"><img src=\"https://colab.research.google.com/assets/colab-badge.svg\" alt=\"Open In Colab\"/></a>"
      ]
    },
    {
      "cell_type": "code",
      "execution_count": null,
      "metadata": {
        "id": "G8iBHTXaLalY"
      },
      "outputs": [],
      "source": [
        "\"\"\"\n",
        "Theory : https://www.analyticsvidhya.com/blog/2021/04/simple-understanding-and-implementation-of-knn-algorithm/\n",
        "\"\"\""
      ]
    },
    {
      "cell_type": "code",
      "execution_count": null,
      "metadata": {
        "id": "YYfIKN63Bn8n"
      },
      "outputs": [],
      "source": [
        "import pandas as pd\n",
        "import numpy as np\n",
        "import math\n",
        "import operator\n",
        "from math import sqrt"
      ]
    },
    {
      "cell_type": "code",
      "execution_count": null,
      "metadata": {
        "colab": {
          "base_uri": "https://localhost:8080/"
        },
        "id": "YmXPkRbFF5Fg",
        "outputId": "fd9a11c9-c69f-4887-a115-cf90e8011fd0"
      },
      "outputs": [
        {
          "name": "stdout",
          "output_type": "stream",
          "text": [
            "6 6  :  Orange\n",
            "8 4  :  Blue\n"
          ]
        }
      ],
      "source": [
        "class KMeans:\n",
        "  def __init__(self,k):\n",
        "    self.k = k\n",
        "  def eucledian_distance(self,xo,xc,yo,yc):\n",
        "    return sqrt(((xo - xc) * (xo - xc)) + ((yo - yc) * (yo - yc)))\n",
        "  def get_neighbours(self,train_df,test_df):\n",
        "    length = len(train_df)\n",
        "    distance = []\n",
        "    for index in range(0,length):\n",
        "      #get eucledian_distance and append distance plus label in distance list\n",
        "      eucledian_distance = self.eucledian_distance(df['x'][index],test_df[0]   ,df['y'][index],test_df[1])\n",
        "      distance.append([df['label'][index], eucledian_distance])\n",
        "    \n",
        "    #sort list in ascending order\n",
        "    distance.sort(key = lambda x: x[1])#sort in ascending order\n",
        "    # print(distance)\n",
        "\n",
        "    #intialize counter for label as zero\n",
        "    orange = 0\n",
        "    blue = 0\n",
        "    #loop till given k\n",
        "    for x in range(self.k):\n",
        "      if distance[x][0] == \"Orange\":\n",
        "        orange = orange + 1\n",
        "      else:\n",
        "        blue = blue + 1\n",
        "    #return ht counter label\n",
        "    if orange > blue:\n",
        "      return \"Orange\"\n",
        "    return \"Blue\"\n",
        "\n",
        "\n",
        "#training points\n",
        "points = [\n",
        "          (2, 4, \"Orange\"),\n",
        "          (4, 4, \"Blue\"),\n",
        "          (4, 6, \"Orange\"),\n",
        "          (4, 2, \"Orange\"),\n",
        "          (6, 2, \"Blue\"),\n",
        "          (6, 4, \"Orange\"),\n",
        "          (8, 2, \"Blue\")\n",
        "]\n",
        "#testing points\n",
        "test_points = [\n",
        "          (6, 6),\n",
        "          (8, 4)\n",
        "]\n",
        "\n",
        "#create train and test data frame\n",
        "df = pd.DataFrame()\n",
        "test_df = pd.DataFrame()\n",
        "xo = [p[0] for p in points]\n",
        "yo = [p[1] for p in points]\n",
        "label = [p[2] for p in points]\n",
        "xt = [p[0] for p in test_points]\n",
        "yt = [p[1] for p in test_points]\n",
        "\n",
        "test_df['x'] = xt\n",
        "test_df['y'] = yt\n",
        "\n",
        "df['x'] = xo\n",
        "df['y'] = yo\n",
        "df['label'] = label\n",
        "\n",
        "# print(df.head())\n",
        "# print(\"\\n\\n\",test_df.head())\n",
        "knn = KMeans(3)\n",
        "\n",
        "#loop for test dataset point\n",
        "for index in range(0,len(test_df)):\n",
        "  #get the nearest label\n",
        "  result = knn.get_neighbours(df,[test_df['x'][index],test_df['y'][index]])\n",
        "  print(test_df['x'][index],test_df['y'][index],\" : \",result)\n",
        "  "
      ]
    }
  ],
  "metadata": {
    "colab": {
      "authorship_tag": "ABX9TyP1P1LdQW0Tm1RiRnP9VXYv",
      "collapsed_sections": [],
      "include_colab_link": true,
      "name": "Assignment 3 KNN Classifier.ipynb",
      "provenance": []
    },
    "kernelspec": {
      "display_name": "Python 3",
      "name": "python3"
    },
    "language_info": {
      "name": "python"
    }
  },
  "nbformat": 4,
  "nbformat_minor": 0
}
