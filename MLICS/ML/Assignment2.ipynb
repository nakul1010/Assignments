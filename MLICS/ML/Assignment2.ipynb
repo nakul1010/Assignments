{
 "cells": [
  {
   "cell_type": "markdown",
   "metadata": {
    "id": "L5G4pdns9qtS"
   },
   "source": [
    "## Assignment 2\n",
    "Decision tree"
   ]
  },
  {
   "cell_type": "code",
   "execution_count": null,
   "metadata": {
    "id": "WZW1xRLp8LmQ"
   },
   "outputs": [],
   "source": [
    "import pandas as pd\n",
    "import numpy as np\n",
    "from itertools import chain, combinations"
   ]
  },
  {
   "cell_type": "code",
   "execution_count": null,
   "metadata": {
    "id": "ZpX6p2YFEtyG"
   },
   "outputs": [],
   "source": [
    "class Node:\n",
    "  def __init__(self, col, dtype, values = None):\n",
    "    self.col = col\n",
    "    self.dtype = dtype\n",
    "    if self.dtype == 'categorical':\n",
    "      assert values is not None, 'Mention values for categorical feature.'\n",
    "      self.values = values\n",
    "    else: self.values = None\n",
    "    self.yes = True\n",
    "    self.no = False\n",
    "  \n",
    "  def __str__(self):\n",
    "    return f'COLUMN: {self.col}, VALUES: {self.values},'"
   ]
  },
  {
   "cell_type": "code",
   "execution_count": null,
   "metadata": {
    "id": "kufZMCdZGWKU"
   },
   "outputs": [],
   "source": [
    "class DecisionTree:\n",
    "  def __init__(self):\n",
    "    self.tree = None\n",
    "\n",
    "  def __gini(self, cnt):\n",
    "    total = np.sum(cnt)\n",
    "    if total == 0: return 0\n",
    "    return 1 - (cnt[0] / total) ** 2 - (cnt[1] / total) **2\n",
    "\n",
    "  def __powerset(self, iterable):\n",
    "    s = list(iterable)\n",
    "    if len(s) == 1: return [tuple(s)]\n",
    "    return list(chain.from_iterable(combinations(s, r) for r in range(len(s)+1)))[1:-1]\n",
    "\n",
    "  def __total_imp(self, true_count, false_count):\n",
    "    true_total = np.sum(true_count)\n",
    "    false_total = np.sum(false_count)\n",
    "    total = true_total + false_total\n",
    "    return (self.__gini(true_count) * true_total / total + self.__gini(false_count) * false_total / total,\n",
    "            self.__gini(true_count), self.__gini(false_count))\n",
    "\n",
    "  def __get_imp(self, feature, val, data, label_name):\n",
    "    if self.col_type[feature] == 'numerical':\n",
    "      pass\n",
    "    else:\n",
    "      true_count = [0, 0]\n",
    "      false_count = [0, 0]\n",
    "      for i in range(len(data[feature])):\n",
    "        if data[feature].iloc[i] in val:\n",
    "          if data[label_name].iloc[i]: true_count[1] += 1\n",
    "          else: true_count[0] += 1\n",
    "        else:\n",
    "          if data[label_name].iloc[i]: false_count[1] += 1\n",
    "          else: false_count[0] += 1\n",
    "      return self.__total_imp(true_count, false_count)\n",
    "  \n",
    "  def __feature_impurity(self, feature, data, label_name):\n",
    "    if self.col_type[feature] == 'numerical':\n",
    "      pass\n",
    "    else:\n",
    "      values = self.__powerset(data[feature].unique())\n",
    "      val_imp = set()\n",
    "      for val in values:\n",
    "        imp = self.__get_imp(feature, val, data, label_name)\n",
    "        val_imp.add((imp, val))\n",
    "        # print(f'Feature: {feature}, Values: {val}, Impurity: {imp[0]}')\n",
    "      return val_imp.pop()\n",
    "\n",
    "  def __build_tree(self, data, label_name, cols, par_imp = 10):\n",
    "    if len(cols) == 1: return None\n",
    "    col_imp = set()\n",
    "    for col in cols:\n",
    "      if self.col_type[col] == 'label': continue\n",
    "      col_imp.add((self.__feature_impurity(col, data, label_name), col))\n",
    "    best = col_imp.pop()\n",
    "    col = best[1]\n",
    "    if best[0][0][0] < par_imp:\n",
    "      node = Node(col, self.col_type[col], best[0][1])\n",
    "      data_yes = data[data[col].isin(list(best[0][1])) == True].drop(col, axis=1)\n",
    "      data_no = data[data[col].isin(list(best[0][1])) == False].drop(col, axis=1)\n",
    "      new_cols = list(data_yes.columns)\n",
    "      node.yes = self.__build_tree(data_yes, label_name, new_cols.copy(), best[0][0][1])\n",
    "      node.no = self.__build_tree(data_no, label_name, new_cols.copy(), best[0][0][2])\n",
    "      if node.yes is None: node.yes = True\n",
    "      if node.no is None: node.no = False\n",
    "      return node\n",
    "\n",
    "  def fit(self, df, label_name):\n",
    "    self.col_type = {}\n",
    "    self.cols = list(df.columns)\n",
    "    for col in self.cols:\n",
    "      if col == label_name: self.col_type[col] = 'label'\n",
    "      elif type(df[col][0]) == str:\n",
    "        self.col_type[col] = 'categorical'\n",
    "      else: self.col_type[col] = 'numerical'\n",
    "    self.tree = self.__build_tree(df, label_name, self.cols.copy())\n",
    "\n",
    "  def __predict(self, data, node):\n",
    "    if type(node) == bool: return node\n",
    "    \n",
    "    val = data[node.col]\n",
    "    if val in node.values: node = node.yes\n",
    "    else: node = node.no\n",
    "    \n",
    "    return self.__predict(data, node)\n",
    "\n",
    "  def predict(self, df):\n",
    "    preds = []\n",
    "    for i in range(len(df)):\n",
    "      preds.append(self.__predict(df.iloc[i], self.tree))\n",
    "    return preds"
   ]
  },
  {
   "cell_type": "code",
   "execution_count": null,
   "metadata": {
    "colab": {
     "base_uri": "https://localhost:8080/",
     "height": 206
    },
    "id": "YP1y-QNp7Nw0",
    "outputId": "2977fe8a-10d1-4c44-ab42-90b65db1d713"
   },
   "outputs": [
    {
     "data": {
      "text/html": [
       "\n",
       "  <div id=\"df-8e1c4ff2-e0c3-427d-8716-e3bd84a63302\">\n",
       "    <div class=\"colab-df-container\">\n",
       "      <div>\n",
       "<style scoped>\n",
       "    .dataframe tbody tr th:only-of-type {\n",
       "        vertical-align: middle;\n",
       "    }\n",
       "\n",
       "    .dataframe tbody tr th {\n",
       "        vertical-align: top;\n",
       "    }\n",
       "\n",
       "    .dataframe thead th {\n",
       "        text-align: right;\n",
       "    }\n",
       "</style>\n",
       "<table border=\"1\" class=\"dataframe\">\n",
       "  <thead>\n",
       "    <tr style=\"text-align: right;\">\n",
       "      <th></th>\n",
       "      <th>Age</th>\n",
       "      <th>Income</th>\n",
       "      <th>Gender</th>\n",
       "      <th>MaritalStatus</th>\n",
       "      <th>Buys</th>\n",
       "    </tr>\n",
       "  </thead>\n",
       "  <tbody>\n",
       "    <tr>\n",
       "      <th>0</th>\n",
       "      <td>&lt;21</td>\n",
       "      <td>High</td>\n",
       "      <td>Male</td>\n",
       "      <td>Single</td>\n",
       "      <td>No</td>\n",
       "    </tr>\n",
       "    <tr>\n",
       "      <th>1</th>\n",
       "      <td>&lt;21</td>\n",
       "      <td>High</td>\n",
       "      <td>Male</td>\n",
       "      <td>Married</td>\n",
       "      <td>No</td>\n",
       "    </tr>\n",
       "    <tr>\n",
       "      <th>2</th>\n",
       "      <td>21-35</td>\n",
       "      <td>High</td>\n",
       "      <td>Male</td>\n",
       "      <td>Single</td>\n",
       "      <td>Yes</td>\n",
       "    </tr>\n",
       "    <tr>\n",
       "      <th>3</th>\n",
       "      <td>&gt;35</td>\n",
       "      <td>Medium</td>\n",
       "      <td>Male</td>\n",
       "      <td>Single</td>\n",
       "      <td>Yes</td>\n",
       "    </tr>\n",
       "    <tr>\n",
       "      <th>4</th>\n",
       "      <td>&gt;35</td>\n",
       "      <td>Low</td>\n",
       "      <td>Female</td>\n",
       "      <td>Single</td>\n",
       "      <td>Yes</td>\n",
       "    </tr>\n",
       "  </tbody>\n",
       "</table>\n",
       "</div>\n",
       "      <button class=\"colab-df-convert\" onclick=\"convertToInteractive('df-8e1c4ff2-e0c3-427d-8716-e3bd84a63302')\"\n",
       "              title=\"Convert this dataframe to an interactive table.\"\n",
       "              style=\"display:none;\">\n",
       "        \n",
       "  <svg xmlns=\"http://www.w3.org/2000/svg\" height=\"24px\"viewBox=\"0 0 24 24\"\n",
       "       width=\"24px\">\n",
       "    <path d=\"M0 0h24v24H0V0z\" fill=\"none\"/>\n",
       "    <path d=\"M18.56 5.44l.94 2.06.94-2.06 2.06-.94-2.06-.94-.94-2.06-.94 2.06-2.06.94zm-11 1L8.5 8.5l.94-2.06 2.06-.94-2.06-.94L8.5 2.5l-.94 2.06-2.06.94zm10 10l.94 2.06.94-2.06 2.06-.94-2.06-.94-.94-2.06-.94 2.06-2.06.94z\"/><path d=\"M17.41 7.96l-1.37-1.37c-.4-.4-.92-.59-1.43-.59-.52 0-1.04.2-1.43.59L10.3 9.45l-7.72 7.72c-.78.78-.78 2.05 0 2.83L4 21.41c.39.39.9.59 1.41.59.51 0 1.02-.2 1.41-.59l7.78-7.78 2.81-2.81c.8-.78.8-2.07 0-2.86zM5.41 20L4 18.59l7.72-7.72 1.47 1.35L5.41 20z\"/>\n",
       "  </svg>\n",
       "      </button>\n",
       "      \n",
       "  <style>\n",
       "    .colab-df-container {\n",
       "      display:flex;\n",
       "      flex-wrap:wrap;\n",
       "      gap: 12px;\n",
       "    }\n",
       "\n",
       "    .colab-df-convert {\n",
       "      background-color: #E8F0FE;\n",
       "      border: none;\n",
       "      border-radius: 50%;\n",
       "      cursor: pointer;\n",
       "      display: none;\n",
       "      fill: #1967D2;\n",
       "      height: 32px;\n",
       "      padding: 0 0 0 0;\n",
       "      width: 32px;\n",
       "    }\n",
       "\n",
       "    .colab-df-convert:hover {\n",
       "      background-color: #E2EBFA;\n",
       "      box-shadow: 0px 1px 2px rgba(60, 64, 67, 0.3), 0px 1px 3px 1px rgba(60, 64, 67, 0.15);\n",
       "      fill: #174EA6;\n",
       "    }\n",
       "\n",
       "    [theme=dark] .colab-df-convert {\n",
       "      background-color: #3B4455;\n",
       "      fill: #D2E3FC;\n",
       "    }\n",
       "\n",
       "    [theme=dark] .colab-df-convert:hover {\n",
       "      background-color: #434B5C;\n",
       "      box-shadow: 0px 1px 3px 1px rgba(0, 0, 0, 0.15);\n",
       "      filter: drop-shadow(0px 1px 2px rgba(0, 0, 0, 0.3));\n",
       "      fill: #FFFFFF;\n",
       "    }\n",
       "  </style>\n",
       "\n",
       "      <script>\n",
       "        const buttonEl =\n",
       "          document.querySelector('#df-8e1c4ff2-e0c3-427d-8716-e3bd84a63302 button.colab-df-convert');\n",
       "        buttonEl.style.display =\n",
       "          google.colab.kernel.accessAllowed ? 'block' : 'none';\n",
       "\n",
       "        async function convertToInteractive(key) {\n",
       "          const element = document.querySelector('#df-8e1c4ff2-e0c3-427d-8716-e3bd84a63302');\n",
       "          const dataTable =\n",
       "            await google.colab.kernel.invokeFunction('convertToInteractive',\n",
       "                                                     [key], {});\n",
       "          if (!dataTable) return;\n",
       "\n",
       "          const docLinkHtml = 'Like what you see? Visit the ' +\n",
       "            '<a target=\"_blank\" href=https://colab.research.google.com/notebooks/data_table.ipynb>data table notebook</a>'\n",
       "            + ' to learn more about interactive tables.';\n",
       "          element.innerHTML = '';\n",
       "          dataTable['output_type'] = 'display_data';\n",
       "          await google.colab.output.renderOutput(dataTable, element);\n",
       "          const docLink = document.createElement('div');\n",
       "          docLink.innerHTML = docLinkHtml;\n",
       "          element.appendChild(docLink);\n",
       "        }\n",
       "      </script>\n",
       "    </div>\n",
       "  </div>\n",
       "  "
      ],
      "text/plain": [
       "     Age  Income  Gender MaritalStatus Buys\n",
       "0    <21    High    Male        Single   No\n",
       "1    <21    High    Male       Married   No\n",
       "2  21-35    High    Male        Single  Yes\n",
       "3    >35  Medium    Male        Single  Yes\n",
       "4    >35     Low  Female        Single  Yes"
      ]
     },
     "execution_count": 4,
     "metadata": {},
     "output_type": "execute_result"
    }
   ],
   "source": [
    "df = pd.read_csv('dataset.csv').drop('ID', axis=1)\n",
    "df.head()"
   ]
  },
  {
   "cell_type": "code",
   "execution_count": null,
   "metadata": {
    "id": "lD9oanlpgKZG"
   },
   "outputs": [],
   "source": [
    "train_df = df[:-1].copy()\n",
    "train_df['Buys'] = train_df['Buys'] == 'Yes'"
   ]
  },
  {
   "cell_type": "code",
   "execution_count": null,
   "metadata": {
    "id": "6j1YL6Ka7ME8"
   },
   "outputs": [],
   "source": [
    "test_df = df[-1:].copy().drop('Buys', axis = 1)"
   ]
  },
  {
   "cell_type": "code",
   "execution_count": null,
   "metadata": {
    "id": "OaE5Vz0UgKdd"
   },
   "outputs": [],
   "source": [
    "clf = DecisionTree()"
   ]
  },
  {
   "cell_type": "code",
   "execution_count": null,
   "metadata": {
    "id": "QeHxKteOg64C"
   },
   "outputs": [],
   "source": [
    "clf.fit(train_df, 'Buys')"
   ]
  },
  {
   "cell_type": "code",
   "execution_count": null,
   "metadata": {
    "colab": {
     "base_uri": "https://localhost:8080/"
    },
    "id": "cyhQnYfWE29a",
    "outputId": "24a72a8c-83c8-4494-daae-f162eff535d9"
   },
   "outputs": [
    {
     "name": "stdout",
     "output_type": "stream",
     "text": [
      "Root: Age\n"
     ]
    }
   ],
   "source": [
    "print(f'Root: {clf.tree.col}')"
   ]
  },
  {
   "cell_type": "code",
   "execution_count": null,
   "metadata": {
    "colab": {
     "base_uri": "https://localhost:8080/"
    },
    "id": "DIjcVygz7faB",
    "outputId": "0868885f-11c0-467e-b0b9-a515108ebb78"
   },
   "outputs": [
    {
     "data": {
      "text/plain": [
       "[True]"
      ]
     },
     "execution_count": 12,
     "metadata": {},
     "output_type": "execute_result"
    }
   ],
   "source": [
    "clf.predict(test_df)"
   ]
  }
 ],
 "metadata": {
  "colab": {
   "name": "Assignment2.ipynb",
   "provenance": []
  },
  "kernelspec": {
   "display_name": "Python 3 (ipykernel)",
   "language": "python",
   "name": "python3"
  },
  "language_info": {
   "codemirror_mode": {
    "name": "ipython",
    "version": 3
   },
   "file_extension": ".py",
   "mimetype": "text/x-python",
   "name": "python",
   "nbconvert_exporter": "python",
   "pygments_lexer": "ipython3",
   "version": "3.8.10"
  }
 },
 "nbformat": 4,
 "nbformat_minor": 1
}
