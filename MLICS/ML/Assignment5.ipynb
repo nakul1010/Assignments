{
  "nbformat": 4,
  "nbformat_minor": 0,
  "metadata": {
    "colab": {
      "name": "Assignment5.ipynb",
      "provenance": []
    },
    "kernelspec": {
      "name": "python3",
      "display_name": "Python 3"
    },
    "language_info": {
      "name": "python"
    }
  },
  "cells": [
    {
      "cell_type": "markdown",
      "source": [
        "## Assignment 1\n",
        "Simple Data Encryption Standard (S-DES)\n",
        "\n",
        "[Reference](https://www.youtube.com/watch?v=mS2VC7vbbNc&t=543s)"
      ],
      "metadata": {
        "id": "VUjq3ZNGGZPB"
      }
    },
    {
      "cell_type": "code",
      "source": [
        "import random"
      ],
      "metadata": {
        "id": "Kys3gT37D4Qw"
      },
      "execution_count": null,
      "outputs": []
    },
    {
      "cell_type": "markdown",
      "source": [
        "### Constants initialisation"
      ],
      "metadata": {
        "id": "A2SAalGymI7x"
      }
    },
    {
      "cell_type": "code",
      "source": [
        "P10 = [] # Random permutation of size 10\n",
        "P8 = [] # Sample 8 elemets from P10\n",
        "EP = [] # Shuffle two permutations of size 4\n",
        "IP = [] # # Random permutation of size 8\n",
        "IP_INV = [] # To be calculated from IP IP_INV[IP[i] - 1] = i + 1"
      ],
      "metadata": {
        "id": "IWN1YjqsiLux"
      },
      "execution_count": null,
      "outputs": []
    },
    {
      "cell_type": "code",
      "source": [
        "def gen_random_permutation(n):\n",
        "  out = [i+1 for i in range(n)]\n",
        "  random.shuffle(out)\n",
        "  return out;"
      ],
      "metadata": {
        "id": "ZcuHZhezjcb1"
      },
      "execution_count": null,
      "outputs": []
    },
    {
      "cell_type": "code",
      "source": [
        "IP = gen_random_permutation(8)\n",
        "IP_INV = [1]*8\n",
        "for i in range(len(IP)):\n",
        "  IP_INV[IP[i]-1] = i+1\n",
        "print(\"IP:\", IP)\n",
        "print(\"IP_INV:\", IP_INV)"
      ],
      "metadata": {
        "colab": {
          "base_uri": "https://localhost:8080/"
        },
        "id": "IwtQbI7dfKc4",
        "outputId": "7e73a22f-718b-4d62-c5fe-4dfb16ad11f3"
      },
      "execution_count": null,
      "outputs": [
        {
          "output_type": "stream",
          "name": "stdout",
          "text": [
            "IP: [3, 8, 1, 5, 4, 2, 6, 7]\n",
            "IP_INV: [3, 6, 1, 5, 4, 7, 8, 2]\n"
          ]
        }
      ]
    },
    {
      "cell_type": "code",
      "source": [
        "EP = gen_random_permutation(4)*2\n",
        "print(\"EP:\", EP)"
      ],
      "metadata": {
        "colab": {
          "base_uri": "https://localhost:8080/"
        },
        "id": "xlfXJOehR1pB",
        "outputId": "82d486f9-38d0-4ff2-a574-446e433579c8"
      },
      "execution_count": null,
      "outputs": [
        {
          "output_type": "stream",
          "name": "stdout",
          "text": [
            "EP: [2, 4, 3, 1, 2, 4, 3, 1]\n"
          ]
        }
      ]
    },
    {
      "cell_type": "code",
      "source": [
        "P10 = gen_random_permutation(10)\n",
        "print(\"P10:\", P10)"
      ],
      "metadata": {
        "colab": {
          "base_uri": "https://localhost:8080/"
        },
        "id": "pXrI9s9BFDkF",
        "outputId": "01ce5140-aac8-4675-8745-db8d5253704a"
      },
      "execution_count": null,
      "outputs": [
        {
          "output_type": "stream",
          "name": "stdout",
          "text": [
            "P10: [7, 3, 6, 1, 10, 4, 2, 5, 8, 9]\n"
          ]
        }
      ]
    },
    {
      "cell_type": "code",
      "source": [
        "P8 = random.sample(gen_random_permutation(10), 8)\n",
        "print(\"P8:\", P8)"
      ],
      "metadata": {
        "colab": {
          "base_uri": "https://localhost:8080/"
        },
        "id": "HrkwXxtnHein",
        "outputId": "69a2b1d0-0861-4a1a-c48f-cbbe0f99c4a5"
      },
      "execution_count": null,
      "outputs": [
        {
          "output_type": "stream",
          "name": "stdout",
          "text": [
            "P8: [1, 4, 2, 6, 7, 3, 10, 8]\n"
          ]
        }
      ]
    },
    {
      "cell_type": "code",
      "source": [
        "S0 = [\n",
        "    [1, 0, 3, 2],\n",
        "    [3, 2, 1, 0],\n",
        "    [0, 2, 1, 3],\n",
        "    [3, 1, 3, 2]\n",
        "]\n",
        "S1 = [\n",
        "    [0, 1, 2, 3],\n",
        "    [2, 0, 1, 3],\n",
        "    [3, 0, 1, 0],\n",
        "    [2, 1, 0, 3]\n",
        "]"
      ],
      "metadata": {
        "id": "OdLZaC5eUjyZ"
      },
      "execution_count": null,
      "outputs": []
    },
    {
      "cell_type": "markdown",
      "source": [
        "### Helper functions"
      ],
      "metadata": {
        "id": "8KU9hN9imNsl"
      }
    },
    {
      "cell_type": "code",
      "source": [
        "def bin_to_dec(x):\n",
        "  return int(x, 2)\n",
        "def dec_to_bin(x):\n",
        "  return bin(x).replace(\"0b\",\"\")"
      ],
      "metadata": {
        "id": "iNnUF8wXYUyd"
      },
      "execution_count": null,
      "outputs": []
    },
    {
      "cell_type": "code",
      "source": [
        "def left_circular_shift(x, shifts=1):\n",
        "  shifts = shifts % len(x)\n",
        "  return x[shifts:] + x[:shifts]"
      ],
      "metadata": {
        "id": "v053WC4wD6CR"
      },
      "execution_count": null,
      "outputs": []
    },
    {
      "cell_type": "code",
      "source": [
        "def permutate(key, perm):\n",
        "  ret = \"\"\n",
        "  for k in perm:\n",
        "    ret += key[k-1]\n",
        "  return ret"
      ],
      "metadata": {
        "id": "Zyl-3_3EG-Wc"
      },
      "execution_count": null,
      "outputs": []
    },
    {
      "cell_type": "code",
      "source": [
        "def split_str(key):\n",
        "  half = len(key)//2\n",
        "  key1 = key[:half]\n",
        "  key2 = key[half:]\n",
        "  return key1, key2"
      ],
      "metadata": {
        "id": "SqzkiAwOFBr8"
      },
      "execution_count": null,
      "outputs": []
    },
    {
      "cell_type": "code",
      "source": [
        "def xor(a, b):\n",
        "  ret = \"\"\n",
        "  for i in range(len(a)):\n",
        "    if a[i] == b[i]: ret += \"0\"\n",
        "    else: ret += \"1\"\n",
        "  return ret"
      ],
      "metadata": {
        "id": "FCl29xCqTL9H"
      },
      "execution_count": null,
      "outputs": []
    },
    {
      "cell_type": "markdown",
      "source": [
        "### Algorithm necessary functions"
      ],
      "metadata": {
        "id": "cPz4oj7cmSIs"
      }
    },
    {
      "cell_type": "code",
      "source": [
        "def gen_subkeys(key):\n",
        "  n_key = permutate(key, P10)\n",
        "\n",
        "  left_key, right_key = split_str(n_key)\n",
        "\n",
        "  left_key = left_circular_shift(left_key, 1)\n",
        "  right_key = left_circular_shift(right_key, 1)\n",
        "\n",
        "  k1 = permutate(left_key + right_key, P8)\n",
        "\n",
        "  left_key = left_circular_shift(left_key, 2)\n",
        "  right_key = left_circular_shift(right_key, 2)\n",
        "\n",
        "  k2 = permutate(left_key + right_key, P8)\n",
        "\n",
        "  return k1, k2"
      ],
      "metadata": {
        "id": "5Wul8STEMilN"
      },
      "execution_count": null,
      "outputs": []
    },
    {
      "cell_type": "code",
      "source": [
        "def s_box(text, s):\n",
        "  r = text[0] + text[3]\n",
        "  c = text[1] + text[2]\n",
        "\n",
        "  r = bin_to_dec(r)\n",
        "  c = bin_to_dec(c)\n",
        "  out = s[r][c]\n",
        "  out = dec_to_bin(out)\n",
        "  while len(out) < 2:\n",
        "    out = \"0\" + out\n",
        "  return out"
      ],
      "metadata": {
        "id": "4QOxVZpWV-qU"
      },
      "execution_count": null,
      "outputs": []
    },
    {
      "cell_type": "code",
      "source": [
        "def function(left, right, subkey):\n",
        "  text = right\n",
        "  text = permutate(text, EP)\n",
        "  text = xor(text, subkey)\n",
        "  text_left, text_right = split_str(text)\n",
        "  text = s_box(text_left, S0) + s_box(text_right, S1)\n",
        "  text = xor(text, left)\n",
        "  return text, right"
      ],
      "metadata": {
        "id": "fRUlCbUkTDFf"
      },
      "execution_count": null,
      "outputs": []
    },
    {
      "cell_type": "code",
      "source": [
        "def encryption(plaintext, key):\n",
        "  k1, k2 = gen_subkeys(key)\n",
        "\n",
        "  ciphertext = permutate(plaintext, IP)\n",
        "\n",
        "  left, right = split_str(ciphertext)\n",
        "  left, right = function(left, right, k1)\n",
        "\n",
        "  left, right = right, left\n",
        "\n",
        "  left, right = function(left, right, k2)\n",
        "\n",
        "  ciphertext = permutate(left + right, IP_INV)\n",
        "\n",
        "  return ciphertext"
      ],
      "metadata": {
        "id": "JdaAgo1nJ6oc"
      },
      "execution_count": null,
      "outputs": []
    },
    {
      "cell_type": "code",
      "source": [
        "def decryption(ciphertext, key):\n",
        "  k1, k2 = gen_subkeys(key)\n",
        "\n",
        "  plaintext = permutate(ciphertext, IP)\n",
        "\n",
        "  left, right = split_str(plaintext)\n",
        "  left, right = function(left, right, k2)\n",
        "\n",
        "  left, right = right, left\n",
        "\n",
        "  left, right = function(left, right, k1)\n",
        "\n",
        "  plaintext = permutate(left + right, IP_INV)\n",
        "\n",
        "  return plaintext"
      ],
      "metadata": {
        "id": "6uIilfXoYB9M"
      },
      "execution_count": null,
      "outputs": []
    },
    {
      "cell_type": "markdown",
      "source": [
        "### Testing"
      ],
      "metadata": {
        "id": "S951W3yFmXEN"
      }
    },
    {
      "cell_type": "code",
      "source": [
        "key = \"1010001011\"\n",
        "plaintext = \"10001010\""
      ],
      "metadata": {
        "id": "u0KyzT3lHPUm"
      },
      "execution_count": null,
      "outputs": []
    },
    {
      "cell_type": "code",
      "source": [
        "c = encryption(plaintext, key)\n",
        "p = decryption(c, key)"
      ],
      "metadata": {
        "id": "FP8MLsoBdO8t"
      },
      "execution_count": null,
      "outputs": []
    },
    {
      "cell_type": "code",
      "source": [
        "assert(p==plaintext)"
      ],
      "metadata": {
        "id": "goeACHRCedl7"
      },
      "execution_count": null,
      "outputs": []
    }
  ]
}