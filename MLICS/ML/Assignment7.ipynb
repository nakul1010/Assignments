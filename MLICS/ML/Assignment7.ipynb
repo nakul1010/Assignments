{
  "nbformat": 4,
  "nbformat_minor": 0,
  "metadata": {
    "colab": {
      "name": "Assignment7.ipynb",
      "provenance": []
    },
    "kernelspec": {
      "name": "python3",
      "display_name": "Python 3"
    },
    "language_info": {
      "name": "python"
    }
  },
  "cells": [
    {
      "cell_type": "markdown",
      "source": [
        "## Assignment 3\n",
        "Diffie-Hellman Key Exchange\n",
        "\n",
        "[Reference](https://www.geeksforgeeks.org/implementation-diffie-hellman-algorithm/)"
      ],
      "metadata": {
        "id": "7kt0z0jlmlGo"
      }
    },
    {
      "cell_type": "code",
      "source": [
        "# Global variables\n",
        "P = 23\n",
        "G = 14"
      ],
      "metadata": {
        "id": "9iIiS9PdoP6c"
      },
      "execution_count": null,
      "outputs": []
    },
    {
      "cell_type": "code",
      "source": [
        "# Private keys\n",
        "Ra = 3\n",
        "Rb = 4"
      ],
      "metadata": {
        "id": "TpLjTKvroi1n"
      },
      "execution_count": null,
      "outputs": []
    },
    {
      "cell_type": "code",
      "source": [
        "# Public keys\n",
        "Ua = pow(G, Ra) % P\n",
        "Ub = pow(G, Rb) % P"
      ],
      "metadata": {
        "id": "i6n4cnzPolVf"
      },
      "execution_count": null,
      "outputs": []
    },
    {
      "cell_type": "code",
      "source": [
        "# Symmetric key calculated by A and B\n",
        "symm_key_a = pow(Ub, Ra) % P # A has access to B's public key and A's private key\n",
        "symm_key_b = pow(Ua, Rb) % P # B has access to A's public key and B's private key\n",
        "print(symm_key_a)"
      ],
      "metadata": {
        "id": "cjmkiFE7oycy",
        "colab": {
          "base_uri": "https://localhost:8080/"
        },
        "outputId": "4d370b45-db0f-41b7-f4b1-1278d32befe8"
      },
      "execution_count": null,
      "outputs": [
        {
          "output_type": "stream",
          "name": "stdout",
          "text": [
            "9\n"
          ]
        }
      ]
    },
    {
      "cell_type": "code",
      "source": [
        "assert(symm_key_a == symm_key_b)"
      ],
      "metadata": {
        "id": "oned6PcbpNBC"
      },
      "execution_count": null,
      "outputs": []
    },
    {
      "cell_type": "code",
      "source": [
        ""
      ],
      "metadata": {
        "id": "Qv3_3eytpPLc"
      },
      "execution_count": null,
      "outputs": []
    }
  ]
}