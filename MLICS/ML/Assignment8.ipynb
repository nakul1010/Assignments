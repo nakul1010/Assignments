{
  "nbformat": 4,
  "nbformat_minor": 0,
  "metadata": {
    "colab": {
      "name": "Assignment8.ipynb",
      "provenance": []
    },
    "kernelspec": {
      "name": "python3",
      "display_name": "Python 3"
    },
    "language_info": {
      "name": "python"
    }
  },
  "cells": [
    {
      "cell_type": "markdown",
      "source": [
        "## Assignment 4\n",
        "RSA Algrithm\n",
        "\n",
        "[Reference](https://www.geeksforgeeks.org/rsa-algorithm-cryptography/)"
      ],
      "metadata": {
        "id": "IIZDYMSKpvU5"
      }
    },
    {
      "cell_type": "markdown",
      "source": [
        "### Helper functions"
      ],
      "metadata": {
        "id": "xjzu_5sa5mqW"
      }
    },
    {
      "cell_type": "code",
      "source": [
        "def gcd(a, b):\n",
        "  if a == 0:\n",
        "    return b\n",
        "  return gcd(b % a, a)"
      ],
      "metadata": {
        "id": "dDJSbpZpwMl9"
      },
      "execution_count": null,
      "outputs": []
    },
    {
      "cell_type": "code",
      "source": [
        "def mod_pow(a, b, m):\n",
        "  if b==0:\n",
        "    return 1\n",
        "  r = mod_pow(a, b//2, m)\n",
        "  r = (r * r) % m\n",
        "  if b % 2 == 1:\n",
        "    r = (r * a) % m\n",
        "  return r"
      ],
      "metadata": {
        "id": "oUvt0f0o1kgD"
      },
      "execution_count": null,
      "outputs": []
    },
    {
      "cell_type": "markdown",
      "source": [
        "### Generating keys"
      ],
      "metadata": {
        "id": "Nkb1KecP5ukU"
      }
    },
    {
      "cell_type": "code",
      "source": [
        "P = 53\n",
        "Q = 59"
      ],
      "metadata": {
        "id": "uLpyuweTvgES"
      },
      "execution_count": null,
      "outputs": []
    },
    {
      "cell_type": "code",
      "source": [
        "n = P * Q\n",
        "phi_n = (P-1) * (Q-1)"
      ],
      "metadata": {
        "id": "zm4KshEnvwP6"
      },
      "execution_count": null,
      "outputs": []
    },
    {
      "cell_type": "code",
      "source": [
        "# Generating e\n",
        "e = 2\n",
        "while e < phi_n:\n",
        "  if gcd(e, phi_n) == 1:\n",
        "    break\n",
        "  e += 1"
      ],
      "metadata": {
        "id": "fgoK1hyHv0Q8"
      },
      "execution_count": null,
      "outputs": []
    },
    {
      "cell_type": "code",
      "source": [
        "# Generating d\n",
        "k = 1\n",
        "while (k * phi_n + 1) % e != 0:\n",
        "  k += 1\n",
        "d = (k * phi_n + 1) // e"
      ],
      "metadata": {
        "id": "jaXljobbwjST"
      },
      "execution_count": null,
      "outputs": []
    },
    {
      "cell_type": "code",
      "source": [
        "U = [e, n] # Public key\n",
        "R = [d, n] # Private key"
      ],
      "metadata": {
        "id": "dSERS3GHzrhB"
      },
      "execution_count": null,
      "outputs": []
    },
    {
      "cell_type": "code",
      "source": [
        "print(\"Primes:\\t\\t\", P, \",\", Q)\n",
        "print(\"N:\\t\\t\", n)\n",
        "print(\"phi(N):\\t\\t\", phi_n)\n",
        "print(\"e:\\t\\t\", e)\n",
        "print(\"d:\\t\\t\", d)\n",
        "print(\"Public key:\\t\", \"[e, n] =\", U)\n",
        "print(\"Private key:\\t\", \"[d, n] =\", R)"
      ],
      "metadata": {
        "colab": {
          "base_uri": "https://localhost:8080/"
        },
        "id": "rUEQLQ67xAPl",
        "outputId": "317a7c05-6d1f-4bcd-eb47-1c1784fd985f"
      },
      "execution_count": null,
      "outputs": [
        {
          "output_type": "stream",
          "name": "stdout",
          "text": [
            "Primes:\t\t 53 , 59\n",
            "N:\t\t 3127\n",
            "phi(N):\t\t 3016\n",
            "e:\t\t 3\n",
            "d:\t\t 2011\n",
            "Public key:\t [e, n] = [3, 3127]\n",
            "Private key:\t [d, n] = [2011, 3127]\n"
          ]
        }
      ]
    },
    {
      "cell_type": "markdown",
      "source": [
        "### Testing"
      ],
      "metadata": {
        "id": "cabs_LIk52mt"
      }
    },
    {
      "cell_type": "code",
      "source": [
        "def encrypt(P, U):\n",
        "  e, n = U\n",
        "  c = mod_pow(P, e, n)\n",
        "  return c"
      ],
      "metadata": {
        "id": "1_oT64EIxlx5"
      },
      "execution_count": null,
      "outputs": []
    },
    {
      "cell_type": "code",
      "source": [
        "def decrypt(C, R):\n",
        "  d, n = R\n",
        "  ret = mod_pow(C, d, n)\n",
        "  return ret"
      ],
      "metadata": {
        "id": "v98E_k5bzgRv"
      },
      "execution_count": null,
      "outputs": []
    },
    {
      "cell_type": "code",
      "source": [
        "plaintext = 89"
      ],
      "metadata": {
        "id": "yXx_QcYx0Zsf"
      },
      "execution_count": null,
      "outputs": []
    },
    {
      "cell_type": "code",
      "source": [
        "c = encrypt(plaintext, U)\n",
        "p = decrypt(c, R)"
      ],
      "metadata": {
        "id": "HGfIBDHl0cYx"
      },
      "execution_count": null,
      "outputs": []
    },
    {
      "cell_type": "code",
      "source": [
        "assert(p == plaintext)"
      ],
      "metadata": {
        "id": "zCKdnVBP3i8s"
      },
      "execution_count": null,
      "outputs": []
    }
  ]
}